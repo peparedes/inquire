{
 "cells": [
  {
   "cell_type": "code",
   "execution_count": 1,
   "metadata": {
    "collapsed": true
   },
   "outputs": [],
   "source": [
    "import pandas as pd\n",
    "from gensim.models import Word2Vec\n",
    "from termcolor import colored\n",
    "import warnings\n",
    "import re\n",
    "import numpy as np\n",
    "from sklearn.metrics.pairwise import cosine_similarity\n",
    "from sklearn.cluster import DBSCAN\n",
    "import matplotlib.pyplot as plt\n",
    "plt.style.use(\"fivethirtyeight\")\n",
    "warnings.filterwarnings(\"ignore\")\n",
    "%matplotlib inline"
   ]
  },
  {
   "cell_type": "markdown",
   "metadata": {},
   "source": [
    "## Helper functions & setup"
   ]
  },
  {
   "cell_type": "code",
   "execution_count": 2,
   "metadata": {
    "collapsed": false
   },
   "outputs": [],
   "source": [
    "#Using the Google News Model\n",
    "#not pushed because it is too big but can be found here: https://drive.google.com/file/d/0B7XkCwpI5KDYNlNUTTlSS21pQmM/edit\n",
    "model = Word2Vec.load_word2vec_format('../GoogleNews-vectors-negative300.bin', binary=True)"
   ]
  },
  {
   "cell_type": "code",
   "execution_count": 3,
   "metadata": {
    "collapsed": false
   },
   "outputs": [],
   "source": [
    "#I will be using the first folder as my data\n",
    "queries_file = open(\"../data/user_studies/all.txt\", \"r\")\n",
    "lines = queries_file.readlines()\n",
    "lines = [l.strip() for l in lines]\n",
    "# remove all strings with length < 3\n",
    "queries = []\n",
    "for i in lines:\n",
    "    if not len(i)<3:\n",
    "        queries.append(i)"
   ]
  },
  {
   "cell_type": "code",
   "execution_count": 4,
   "metadata": {
    "collapsed": true
   },
   "outputs": [],
   "source": [
    "#helper functions\n",
    "def get_sentence_vector(q):\n",
    "    \"\"\"returns the vector for a sentence\"\"\"\n",
    "    #remove all punctuation from query\n",
    "    q = re.sub(r'[^\\w\\s]','',q)\n",
    "    #split by word\n",
    "    q = q.split(\" \")\n",
    "    # remove extra spaces\n",
    "    q = [i.strip() for i in q]\n",
    "    query_vec = np.zeros(300)\n",
    "    #adds the vectors of all individual words to get\n",
    "    for w in q:\n",
    "        try:\n",
    "            query_vec+=model[w]\n",
    "        except KeyError:\n",
    "            pass\n",
    "    return query_vec\n",
    "\n",
    "#Get results based on query number\n",
    "def get_results(q_num):\n",
    "    filename = \"../data/user_studies/results_\"+str(q_num)+\".txt\"\n",
    "    f = open(filename, \"r\")\n",
    "    lst = f.readlines()\n",
    "    lst = [i.split(\"--\") for i in lst]\n",
    "    lst = list(zip(*lst))\n",
    "    scores = [float(i.strip()) for i in lst[0]]\n",
    "    results = [i.strip() for i in lst[1]]\n",
    "    return scores, results"
   ]
  },
  {
   "cell_type": "code",
   "execution_count": 5,
   "metadata": {
    "collapsed": false,
    "scrolled": true
   },
   "outputs": [
    {
     "data": {
      "text/plain": [
       "'well ... last night was uneventful ... really got to know the next door neighbor'"
      ]
     },
     "execution_count": 5,
     "metadata": {},
     "output_type": "execute_result"
    }
   ],
   "source": [
    "query_number=3\n",
    "query = queries[query_number]\n",
    "scores, results = get_results(query_number)\n",
    "query"
   ]
  },
  {
   "cell_type": "code",
   "execution_count": 6,
   "metadata": {
    "collapsed": false
   },
   "outputs": [
    {
     "data": {
      "image/png": "[encoded data removed]",
      "text/plain": [
       "<matplotlib.figure.Figure at 0x25d4fb080>"
      ]
     },
     "metadata": {},
     "output_type": "display_data"
    },
    {
     "name": "stdout",
     "output_type": "stream",
     "text": [
      "Percent of sentences with word length greater than 50 is 84.0 %\n"
     ]
    }
   ],
   "source": [
    "#distribution of the length of the sentences in the query results\n",
    "sentence_lengths = np.array([len(x.split(\" \")) for x in results])\n",
    "plt.title(\"Sentence Length (Words)\")\n",
    "plt.hist(sentence_lengths, bins=50)\n",
    "plt.show()\n",
    "print(\"Percent of sentences with word length greater than 50 is\", \n",
    "      np.count_nonzero(sentence_lengths>50)/len(sentence_lengths)*100, \"%\")"
   ]
  },
  {
   "cell_type": "markdown",
   "metadata": {},
   "source": [
    "## Clustering results"
   ]
  },
  {
   "cell_type": "code",
   "execution_count": 7,
   "metadata": {
    "collapsed": false
   },
   "outputs": [
    {
     "data": {
      "text/plain": [
       "array([[ -4.44089210e-16,   1.87773362e-01,   7.76616112e-02, ...,\n",
       "          1.10465825e-01,   1.23730299e-01,   1.38357308e-01],\n",
       "       [  1.87773362e-01,   4.44089210e-16,   1.63489893e-01, ...,\n",
       "          1.86663244e-01,   1.68457161e-01,   1.48352546e-01],\n",
       "       [  7.76616112e-02,   1.63489893e-01,   4.44089210e-16, ...,\n",
       "          9.68487694e-02,   1.05735311e-01,   1.20716608e-01],\n",
       "       ..., \n",
       "       [  1.10465825e-01,   1.86663244e-01,   9.68487694e-02, ...,\n",
       "          4.44089210e-16,   7.76663372e-02,   7.39671201e-02],\n",
       "       [  1.23730299e-01,   1.68457161e-01,   1.05735311e-01, ...,\n",
       "          7.76663372e-02,  -2.22044605e-16,   8.40540226e-02],\n",
       "       [  1.38357308e-01,   1.48352546e-01,   1.20716608e-01, ...,\n",
       "          7.39671201e-02,   8.40540226e-02,   0.00000000e+00]])"
      ]
     },
     "execution_count": 7,
     "metadata": {},
     "output_type": "execute_result"
    }
   ],
   "source": [
    "#make a distance matrix in which you take pairwise similairties between\n",
    "dist_matrix = np.zeros([1000, 1000])\n",
    "vectors  = [get_sentence_vector(x) for x in results]\n",
    "dist_matrix = 1-cosine_similarity(vectors, vectors) # 1-cosine similarity to be more intuitive when using as a distance\n",
    "dist_matrix"
   ]
  },
  {
   "cell_type": "code",
   "execution_count": 8,
   "metadata": {
    "collapsed": false
   },
   "outputs": [
    {
     "data": {
      "text/plain": [
       "array([ 0.18777336,  0.07766161,  0.16348989, ...,  0.0846858 ,\n",
       "        0.07396712,  0.08405402])"
      ]
     },
     "execution_count": 8,
     "metadata": {},
     "output_type": "execute_result"
    }
   ],
   "source": [
    "il1 = np.tril(dist_matrix, -1)\n",
    "lower_triangle = dist_matrix[il1>0]\n",
    "lower_triangle"
   ]
  },
  {
   "cell_type": "code",
   "execution_count": 9,
   "metadata": {
    "collapsed": false
   },
   "outputs": [
    {
     "data": {
      "image/png": "[encoded data removed]",
      "text/plain": [
       "<matplotlib.figure.Figure at 0x25d4db400>"
      ]
     },
     "metadata": {},
     "output_type": "display_data"
    }
   ],
   "source": [
    "#distribution of distances for the first 1000 query results\n",
    "plt.hist(lower_triangle, bins=50, normed=True)\n",
    "plt.title(\"Distances Histogram\")\n",
    "plt.show()"
   ]
  },
  {
   "cell_type": "code",
   "execution_count": 10,
   "metadata": {
    "collapsed": false
   },
   "outputs": [
    {
     "data": {
      "text/plain": [
       "0.029357495826176055"
      ]
     },
     "execution_count": 10,
     "metadata": {},
     "output_type": "execute_result"
    }
   ],
   "source": [
    "#pick a small epsilon to draw an edge between results\n",
    "epsilon = np.percentile(lower_triangle, 3)\n",
    "epsilon"
   ]
  },
  {
   "cell_type": "code",
   "execution_count": 11,
   "metadata": {
    "collapsed": false
   },
   "outputs": [
    {
     "data": {
      "text/plain": [
       "1"
      ]
     },
     "execution_count": 11,
     "metadata": {},
     "output_type": "execute_result"
    }
   ],
   "source": [
    "#make a list of edges from the adjacency matrix\n",
    "import networkx as nx\n",
    "edges = []\n",
    "adj_matrix = dist_matrix<epsilon #make adjacency matrix\n",
    "for i in range(1000):\n",
    "    for j in range(1000):\n",
    "        if adj_matrix[i, j] and i!=j:\n",
    "            edges.append((i,j))\n",
    "G = nx.Graph(edges)\n",
    "#number of connected components in Graph\n",
    "len(list(nx.connected_components(G)))"
   ]
  },
  {
   "cell_type": "code",
   "execution_count": 12,
   "metadata": {
    "collapsed": false,
    "scrolled": true
   },
   "outputs": [
    {
     "data": {
      "text/plain": [
       "{3: 116,\n",
       " 7: 7,\n",
       " 11: 7,\n",
       " 12: 56,\n",
       " 13: 4,\n",
       " 14: 14,\n",
       " 15: 85,\n",
       " 17: 7,\n",
       " 22: 1,\n",
       " 24: 6,\n",
       " 25: 1,\n",
       " 28: 38,\n",
       " 30: 5,\n",
       " 31: 53,\n",
       " 32: 29,\n",
       " 33: 97,\n",
       " 35: 51,\n",
       " 40: 111,\n",
       " 46: 47,\n",
       " 48: 3,\n",
       " 49: 5,\n",
       " 50: 14,\n",
       " 53: 168,\n",
       " 57: 145,\n",
       " 58: 62,\n",
       " 59: 44,\n",
       " 60: 174,\n",
       " 63: 7,\n",
       " 65: 10,\n",
       " 68: 86,\n",
       " 70: 21,\n",
       " 71: 282,\n",
       " 73: 37,\n",
       " 74: 6,\n",
       " 76: 2,\n",
       " 77: 123,\n",
       " 82: 15,\n",
       " 83: 122,\n",
       " 85: 1,\n",
       " 88: 70,\n",
       " 90: 17,\n",
       " 92: 90,\n",
       " 94: 38,\n",
       " 103: 9,\n",
       " 104: 10,\n",
       " 106: 52,\n",
       " 109: 2,\n",
       " 110: 187,\n",
       " 111: 9,\n",
       " 114: 21,\n",
       " 115: 27,\n",
       " 116: 17,\n",
       " 117: 88,\n",
       " 120: 6,\n",
       " 122: 6,\n",
       " 124: 8,\n",
       " 125: 17,\n",
       " 133: 62,\n",
       " 134: 64,\n",
       " 135: 110,\n",
       " 139: 25,\n",
       " 144: 225,\n",
       " 145: 105,\n",
       " 146: 128,\n",
       " 147: 12,\n",
       " 148: 1,\n",
       " 150: 41,\n",
       " 152: 1,\n",
       " 155: 13,\n",
       " 156: 99,\n",
       " 158: 2,\n",
       " 160: 60,\n",
       " 162: 104,\n",
       " 163: 60,\n",
       " 168: 66,\n",
       " 170: 1,\n",
       " 172: 77,\n",
       " 173: 10,\n",
       " 174: 219,\n",
       " 175: 226,\n",
       " 176: 10,\n",
       " 178: 7,\n",
       " 179: 108,\n",
       " 180: 58,\n",
       " 181: 237,\n",
       " 187: 5,\n",
       " 189: 18,\n",
       " 193: 151,\n",
       " 195: 148,\n",
       " 198: 4,\n",
       " 199: 16,\n",
       " 200: 9,\n",
       " 201: 4,\n",
       " 202: 26,\n",
       " 203: 145,\n",
       " 205: 240,\n",
       " 207: 81,\n",
       " 208: 137,\n",
       " 212: 106,\n",
       " 215: 156,\n",
       " 220: 1,\n",
       " 221: 184,\n",
       " 222: 15,\n",
       " 226: 52,\n",
       " 228: 62,\n",
       " 230: 73,\n",
       " 231: 43,\n",
       " 232: 12,\n",
       " 233: 167,\n",
       " 234: 158,\n",
       " 235: 50,\n",
       " 236: 1,\n",
       " 241: 4,\n",
       " 242: 15,\n",
       " 243: 24,\n",
       " 244: 71,\n",
       " 245: 1,\n",
       " 246: 109,\n",
       " 248: 5,\n",
       " 249: 14,\n",
       " 251: 3,\n",
       " 252: 130,\n",
       " 253: 23,\n",
       " 254: 1,\n",
       " 255: 162,\n",
       " 256: 158,\n",
       " 258: 71,\n",
       " 259: 271,\n",
       " 260: 6,\n",
       " 261: 2,\n",
       " 262: 249,\n",
       " 263: 17,\n",
       " 266: 13,\n",
       " 267: 3,\n",
       " 268: 8,\n",
       " 270: 10,\n",
       " 275: 1,\n",
       " 279: 197,\n",
       " 280: 119,\n",
       " 281: 220,\n",
       " 284: 7,\n",
       " 285: 16,\n",
       " 286: 67,\n",
       " 289: 2,\n",
       " 290: 28,\n",
       " 292: 15,\n",
       " 296: 15,\n",
       " 300: 14,\n",
       " 301: 17,\n",
       " 302: 14,\n",
       " 303: 1,\n",
       " 305: 101,\n",
       " 308: 45,\n",
       " 311: 152,\n",
       " 313: 19,\n",
       " 314: 17,\n",
       " 316: 45,\n",
       " 317: 82,\n",
       " 318: 1,\n",
       " 319: 8,\n",
       " 320: 32,\n",
       " 321: 103,\n",
       " 323: 1,\n",
       " 325: 76,\n",
       " 326: 3,\n",
       " 327: 73,\n",
       " 328: 30,\n",
       " 329: 71,\n",
       " 331: 122,\n",
       " 332: 61,\n",
       " 333: 5,\n",
       " 336: 9,\n",
       " 338: 2,\n",
       " 339: 4,\n",
       " 341: 27,\n",
       " 342: 43,\n",
       " 343: 127,\n",
       " 344: 41,\n",
       " 345: 76,\n",
       " 348: 1,\n",
       " 351: 180,\n",
       " 352: 161,\n",
       " 354: 11,\n",
       " 356: 20,\n",
       " 358: 136,\n",
       " 361: 2,\n",
       " 363: 219,\n",
       " 365: 249,\n",
       " 368: 87,\n",
       " 369: 5,\n",
       " 371: 4,\n",
       " 372: 83,\n",
       " 373: 239,\n",
       " 374: 7,\n",
       " 377: 170,\n",
       " 378: 255,\n",
       " 379: 35,\n",
       " 380: 29,\n",
       " 381: 57,\n",
       " 383: 58,\n",
       " 385: 6,\n",
       " 390: 21,\n",
       " 392: 17,\n",
       " 393: 130,\n",
       " 394: 30,\n",
       " 397: 1,\n",
       " 401: 2,\n",
       " 402: 30,\n",
       " 407: 3,\n",
       " 408: 198,\n",
       " 409: 8,\n",
       " 412: 66,\n",
       " 413: 15,\n",
       " 421: 114,\n",
       " 422: 91,\n",
       " 423: 80,\n",
       " 424: 87,\n",
       " 425: 52,\n",
       " 432: 32,\n",
       " 433: 92,\n",
       " 436: 39,\n",
       " 437: 75,\n",
       " 438: 42,\n",
       " 439: 177,\n",
       " 440: 51,\n",
       " 442: 112,\n",
       " 443: 3,\n",
       " 444: 4,\n",
       " 445: 39,\n",
       " 446: 26,\n",
       " 448: 32,\n",
       " 449: 242,\n",
       " 451: 1,\n",
       " 454: 74,\n",
       " 455: 28,\n",
       " 456: 89,\n",
       " 458: 25,\n",
       " 460: 31,\n",
       " 461: 54,\n",
       " 463: 4,\n",
       " 464: 14,\n",
       " 467: 24,\n",
       " 472: 1,\n",
       " 474: 2,\n",
       " 476: 198,\n",
       " 482: 18,\n",
       " 485: 102,\n",
       " 486: 129,\n",
       " 487: 164,\n",
       " 489: 1,\n",
       " 490: 60,\n",
       " 493: 106,\n",
       " 496: 10,\n",
       " 497: 140,\n",
       " 499: 60,\n",
       " 500: 2,\n",
       " 502: 266,\n",
       " 503: 8,\n",
       " 504: 2,\n",
       " 509: 13,\n",
       " 510: 2,\n",
       " 511: 9,\n",
       " 515: 3,\n",
       " 516: 100,\n",
       " 518: 5,\n",
       " 522: 99,\n",
       " 523: 95,\n",
       " 524: 4,\n",
       " 528: 16,\n",
       " 530: 94,\n",
       " 531: 12,\n",
       " 532: 37,\n",
       " 533: 5,\n",
       " 534: 4,\n",
       " 537: 4,\n",
       " 540: 77,\n",
       " 542: 194,\n",
       " 547: 1,\n",
       " 549: 14,\n",
       " 550: 86,\n",
       " 552: 101,\n",
       " 553: 14,\n",
       " 554: 19,\n",
       " 555: 22,\n",
       " 557: 3,\n",
       " 558: 31,\n",
       " 559: 7,\n",
       " 561: 16,\n",
       " 563: 2,\n",
       " 566: 81,\n",
       " 568: 6,\n",
       " 570: 158,\n",
       " 571: 23,\n",
       " 572: 272,\n",
       " 573: 2,\n",
       " 577: 3,\n",
       " 578: 80,\n",
       " 579: 168,\n",
       " 580: 46,\n",
       " 581: 62,\n",
       " 585: 53,\n",
       " 588: 3,\n",
       " 590: 47,\n",
       " 595: 28,\n",
       " 596: 1,\n",
       " 597: 53,\n",
       " 599: 39,\n",
       " 602: 3,\n",
       " 604: 165,\n",
       " 607: 16,\n",
       " 608: 10,\n",
       " 609: 158,\n",
       " 610: 12,\n",
       " 612: 223,\n",
       " 614: 4,\n",
       " 615: 11,\n",
       " 616: 238,\n",
       " 617: 84,\n",
       " 618: 76,\n",
       " 619: 1,\n",
       " 620: 32,\n",
       " 621: 48,\n",
       " 622: 6,\n",
       " 624: 24,\n",
       " 627: 2,\n",
       " 629: 6,\n",
       " 630: 2,\n",
       " 631: 18,\n",
       " 632: 3,\n",
       " 633: 53,\n",
       " 634: 2,\n",
       " 637: 33,\n",
       " 638: 1,\n",
       " 641: 5,\n",
       " 642: 227,\n",
       " 644: 1,\n",
       " 647: 2,\n",
       " 648: 79,\n",
       " 649: 3,\n",
       " 650: 66,\n",
       " 652: 62,\n",
       " 654: 20,\n",
       " 655: 44,\n",
       " 656: 79,\n",
       " 660: 200,\n",
       " 662: 41,\n",
       " 663: 8,\n",
       " 666: 2,\n",
       " 667: 97,\n",
       " 669: 35,\n",
       " 672: 21,\n",
       " 676: 22,\n",
       " 678: 65,\n",
       " 679: 70,\n",
       " 680: 44,\n",
       " 681: 9,\n",
       " 683: 1,\n",
       " 684: 35,\n",
       " 685: 98,\n",
       " 693: 3,\n",
       " 697: 52,\n",
       " 699: 40,\n",
       " 700: 144,\n",
       " 702: 16,\n",
       " 703: 102,\n",
       " 706: 117,\n",
       " 707: 112,\n",
       " 708: 56,\n",
       " 710: 6,\n",
       " 711: 3,\n",
       " 713: 57,\n",
       " 714: 4,\n",
       " 718: 2,\n",
       " 719: 45,\n",
       " 720: 83,\n",
       " 721: 61,\n",
       " 723: 139,\n",
       " 726: 22,\n",
       " 728: 23,\n",
       " 731: 68,\n",
       " 732: 164,\n",
       " 733: 99,\n",
       " 734: 55,\n",
       " 735: 150,\n",
       " 736: 52,\n",
       " 737: 41,\n",
       " 738: 52,\n",
       " 739: 99,\n",
       " 740: 110,\n",
       " 741: 15,\n",
       " 742: 17,\n",
       " 743: 4,\n",
       " 746: 4,\n",
       " 747: 15,\n",
       " 748: 258,\n",
       " 749: 194,\n",
       " 750: 25,\n",
       " 751: 2,\n",
       " 752: 51,\n",
       " 753: 97,\n",
       " 754: 38,\n",
       " 755: 47,\n",
       " 759: 11,\n",
       " 764: 3,\n",
       " 766: 6,\n",
       " 767: 189,\n",
       " 768: 185,\n",
       " 771: 109,\n",
       " 774: 2,\n",
       " 775: 12,\n",
       " 776: 7,\n",
       " 778: 171,\n",
       " 780: 118,\n",
       " 781: 40,\n",
       " 782: 2,\n",
       " 783: 184,\n",
       " 784: 14,\n",
       " 788: 3,\n",
       " 789: 6,\n",
       " 790: 12,\n",
       " 791: 35,\n",
       " 793: 134,\n",
       " 795: 89,\n",
       " 797: 2,\n",
       " 798: 82,\n",
       " 799: 34,\n",
       " 800: 133,\n",
       " 801: 54,\n",
       " 803: 116,\n",
       " 804: 28,\n",
       " 805: 114,\n",
       " 808: 82,\n",
       " 809: 132,\n",
       " 812: 170,\n",
       " 813: 2,\n",
       " 817: 209,\n",
       " 818: 2,\n",
       " 819: 12,\n",
       " 820: 93,\n",
       " 822: 32,\n",
       " 823: 4,\n",
       " 824: 61,\n",
       " 825: 19,\n",
       " 826: 1,\n",
       " 827: 30,\n",
       " 830: 1,\n",
       " 834: 22,\n",
       " 835: 2,\n",
       " 837: 114,\n",
       " 838: 99,\n",
       " 841: 16,\n",
       " 842: 13,\n",
       " 847: 20,\n",
       " 849: 3,\n",
       " 852: 38,\n",
       " 854: 6,\n",
       " 855: 1,\n",
       " 858: 37,\n",
       " 859: 71,\n",
       " 860: 34,\n",
       " 861: 32,\n",
       " 864: 89,\n",
       " 865: 5,\n",
       " 870: 1,\n",
       " 871: 61,\n",
       " 872: 84,\n",
       " 873: 153,\n",
       " 874: 36,\n",
       " 875: 20,\n",
       " 879: 2,\n",
       " 881: 53,\n",
       " 882: 225,\n",
       " 883: 49,\n",
       " 884: 2,\n",
       " 888: 5,\n",
       " 889: 42,\n",
       " 890: 2,\n",
       " 891: 78,\n",
       " 892: 1,\n",
       " 894: 12,\n",
       " 895: 11,\n",
       " 896: 230,\n",
       " 898: 2,\n",
       " 899: 3,\n",
       " 901: 14,\n",
       " 902: 41,\n",
       " 904: 102,\n",
       " 905: 173,\n",
       " 908: 1,\n",
       " 909: 26,\n",
       " 913: 5,\n",
       " 915: 5,\n",
       " 916: 2,\n",
       " 919: 65,\n",
       " 920: 128,\n",
       " 921: 42,\n",
       " 925: 48,\n",
       " 926: 66,\n",
       " 927: 1,\n",
       " 928: 113,\n",
       " 929: 29,\n",
       " 931: 6,\n",
       " 932: 44,\n",
       " 934: 17,\n",
       " 936: 3,\n",
       " 937: 1,\n",
       " 939: 40,\n",
       " 940: 22,\n",
       " 945: 149,\n",
       " 946: 19,\n",
       " 949: 2,\n",
       " 950: 58,\n",
       " 951: 11,\n",
       " 952: 2,\n",
       " 953: 36,\n",
       " 955: 58,\n",
       " 958: 9,\n",
       " 959: 45,\n",
       " 962: 19,\n",
       " 967: 31,\n",
       " 970: 130,\n",
       " 974: 7,\n",
       " 978: 4,\n",
       " 979: 141,\n",
       " 980: 4,\n",
       " 981: 2,\n",
       " 983: 132,\n",
       " 986: 19,\n",
       " 988: 11,\n",
       " 990: 136,\n",
       " 993: 52,\n",
       " 994: 4,\n",
       " 996: 2,\n",
       " 997: 1}"
      ]
     },
     "execution_count": 12,
     "metadata": {},
     "output_type": "execute_result"
    }
   ],
   "source": [
    "#investigate the degrees of each node\n",
    "G.degree()"
   ]
  },
  {
   "cell_type": "code",
   "execution_count": 13,
   "metadata": {
    "collapsed": false
   },
   "outputs": [
    {
     "data": {
      "text/plain": [
       "146"
      ]
     },
     "execution_count": 13,
     "metadata": {},
     "output_type": "execute_result"
    }
   ],
   "source": [
    "#remove all the vertices with a degree of 80 or more \n",
    "low_degree = [x  for x, v in G.degree().items() if v<80]\n",
    "high_degree = [x  for x, v in G.degree().items() if v>=80]\n",
    "most_connected_sentences = np.array(results)[high_degree]\n",
    "H = G.subgraph(low_degree)\n",
    "len(high_degree)"
   ]
  },
  {
   "cell_type": "code",
   "execution_count": 14,
   "metadata": {
    "collapsed": true
   },
   "outputs": [],
   "source": [
    "#makes json which is important for graph visualization\n",
    "# Now you can go and fire up index.html in the browser\n",
    "import json\n",
    "\n",
    "graph = {}\n",
    "graph['nodes'] = [{'id': node, 'group': 1, 'text':results[node]} for node in H.nodes()]\n",
    "graph['links'] = [{'source': i, 'target': j, 'value': 1} for (i,j) in H.edges()]\n",
    "\n",
    "   \n",
    "f = open('graph.json', 'w')\n",
    "f.write(json.dumps(graph))\n",
    "f.close()"
   ]
  },
  {
   "cell_type": "code",
   "execution_count": 15,
   "metadata": {
    "collapsed": false,
    "scrolled": true
   },
   "outputs": [
    {
     "data": {
      "text/plain": [
       "(866, 388)"
      ]
     },
     "execution_count": 15,
     "metadata": {},
     "output_type": "execute_result"
    }
   ],
   "source": [
    "#number of edges and vertices in subgraph\n",
    "len(H.edges()), len(H.nodes())"
   ]
  },
  {
   "cell_type": "markdown",
   "metadata": {},
   "source": [
    "## Finding meaning within clusters"
   ]
  },
  {
   "cell_type": "code",
   "execution_count": 16,
   "metadata": {
    "collapsed": false
   },
   "outputs": [],
   "source": [
    "from community import community_louvain\n",
    "#this looks more like the partition the the code in js gives as opposed to best_partition\n",
    "d = community_louvain.generate_dendrogram(H)\n",
    "partition = community_louvain.partition_at_level(d, 2)"
   ]
  },
  {
   "cell_type": "code",
   "execution_count": 17,
   "metadata": {
    "collapsed": false
   },
   "outputs": [],
   "source": [
    "#make an array where in the ith position, we have a list of all the nodes belonging to that community\n",
    "communities = [[]]*(max(partition.values())+1)\n",
    "for node, com in partition.items():\n",
    "    communities[com] = communities[com]+[node]"
   ]
  },
  {
   "cell_type": "code",
   "execution_count": 18,
   "metadata": {
    "collapsed": false,
    "scrolled": true
   },
   "outputs": [
    {
     "data": {
      "text/plain": [
       "1     99\n",
       "2      3\n",
       "70     1\n",
       "54     1\n",
       "48     1\n",
       "35     1\n",
       "33     1\n",
       "20     1\n",
       "15     1\n",
       "8      1\n",
       "dtype: int64"
      ]
     },
     "execution_count": 18,
     "metadata": {},
     "output_type": "execute_result"
    }
   ],
   "source": [
    "#community sizes\n",
    "import pandas as pd\n",
    "import nltk\n",
    "pd.Series([len(x) for x in communities]).value_counts()"
   ]
  },
  {
   "cell_type": "code",
   "execution_count": 19,
   "metadata": {
    "collapsed": false
   },
   "outputs": [],
   "source": [
    "#try to find some common keywords within communities\n",
    "com5 = communities[4] #community of size 70"
   ]
  },
  {
   "cell_type": "code",
   "execution_count": 20,
   "metadata": {
    "collapsed": false
   },
   "outputs": [],
   "source": [
    "sentences_in_community = np.array(results)[com5]"
   ]
  },
  {
   "cell_type": "code",
   "execution_count": 21,
   "metadata": {
    "collapsed": false
   },
   "outputs": [],
   "source": [
    "from nltk.corpus import stopwords\n",
    "from string import punctuation\n",
    "import itertools\n",
    "\n",
    "def clean_sentence(s):\n",
    "    \"\"\"Returns a list of all the words in a sentence with no stop words and no punctuation\"\"\"\n",
    "    tokenized_sentence = [i.strip() for i in nltk.word_tokenize(s.lower())]\n",
    "    words = [w for w in tokenized_sentence if w not in stopwords.words('english') and w not in punctuation]\n",
    "    return words\n",
    "\n",
    "#Find most relevant words\n",
    "\n",
    "def make_dictionary(docs):\n",
    "    \"\"\"Takes in a list of documents and returns an alphabetically sorted list of all distinct words\"\"\"\n",
    "    s = list(set(list(itertools.chain.from_iterable(docs))))\n",
    "    s = list(sorted(s))\n",
    "    return dict([(s[i], i) for i in range(len(s))])\n",
    "\n",
    "def count_instances(map_, doc):\n",
    "    \"\"\"Counts instances words in docs given a dictionary\"\"\"\n",
    "    count_array = np.zeros(len(map_.keys()))\n",
    "    for word, index in map_.items():\n",
    "        count_array[index] = doc.count(word)+1\n",
    "    return count_array\n",
    "\n",
    "def find_ngrams(input_list, n):\n",
    "      if type(n)==list:\n",
    "            lst = []\n",
    "            for i in n:\n",
    "                lst.extend(list(zip(*[input_list[j:] for j in range(i)])))\n",
    "            return lst\n",
    "      return list(zip(*[input_list[i:] for i in range(n)]))"
   ]
  },
  {
   "cell_type": "code",
   "execution_count": 22,
   "metadata": {
    "collapsed": false
   },
   "outputs": [
    {
     "data": {
      "text/plain": [
       "[('...', 'came', 'home', '...'),\n",
       " ('...', 'came', 'home', 'went'),\n",
       " ('...', 'got', 'ready', '...'),\n",
       " ('...', 'yeah', '...', 'good'),\n",
       " ('home', 'around', 'ish', '...'),\n",
       " ('blah', 'blah', 'blah', '...'),\n",
       " ('...', 'came', 'home', '...', 'took'),\n",
       " ('...', 'went', 'home', '...'),\n",
       " ('...', 'lol', '...', 'went'),\n",
       " ('...', 'went', 'go', 'pick')]"
      ]
     },
     "execution_count": 22,
     "metadata": {},
     "output_type": "execute_result"
    }
   ],
   "source": [
    "#Find most common words for cluster #4\n",
    "sentences_in_cluster = np.array(results)[communities[4]]\n",
    "ngrams = [find_ngrams(clean_sentence(i), [4,5]) for i in sentences_in_cluster]\n",
    "dictionary = make_dictionary(ngrams)\n",
    "a = np.ones(len(dictionary))\n",
    "for s in ngrams:\n",
    "    a+=count_instances(dictionary, s)\n",
    "best_scored = np.argsort(a)[::-1]\n",
    "rev_dict = dict(map(reversed, dictionary.items()))\n",
    "[rev_dict[i] for i in best_scored[:10]]"
   ]
  },
  {
   "cell_type": "code",
   "execution_count": 23,
   "metadata": {
    "collapsed": false
   },
   "outputs": [
    {
     "data": {
      "text/plain": [
       "[('damn', 'damn', 'damn', 'damn'),\n",
       " ('...', 'got', 'home', 'around'),\n",
       " ('damn', 'damn', 'damn', 'damn', 'damn'),\n",
       " ('fun', '...', 'went', 'shawns'),\n",
       " ('...', 'bre', 'went', 'home'),\n",
       " ('came', 'back', 'house', 'went'),\n",
       " ('went', 'back', 'merediths', 'house'),\n",
       " ('went', 'back', 'taylors', 'house'),\n",
       " ('went', 'back', 'house', '...'),\n",
       " ('face', 'kenny', 'kept', 'pokin')]"
      ]
     },
     "execution_count": 23,
     "metadata": {},
     "output_type": "execute_result"
    }
   ],
   "source": [
    "#Find most common words for cluster #5\n",
    "sentences_in_cluster = np.array(results)[communities[5]]\n",
    "ngrams = [find_ngrams(clean_sentence(i), [4,5]) for i in sentences_in_cluster]\n",
    "dictionary = make_dictionary(ngrams)\n",
    "a = np.ones(len(dictionary))\n",
    "for s in ngrams:\n",
    "    a+=count_instances(dictionary, s)\n",
    "best_scored = np.argsort(a)[::-1]\n",
    "rev_dict = dict(map(reversed, dictionary.items()))\n",
    "[rev_dict[i] for i in best_scored[:10]]"
   ]
  },
  {
   "cell_type": "markdown",
   "metadata": {},
   "source": [
    "## sklearn to the rescue + wordcloud implementation"
   ]
  },
  {
   "cell_type": "code",
   "execution_count": 32,
   "metadata": {
    "collapsed": false,
    "scrolled": true
   },
   "outputs": [],
   "source": [
    "from sklearn.feature_extraction.text import CountVectorizer, TfidfVectorizer\n",
    "from collections import Counter\n",
    "import operator\n",
    "\n",
    "vectorizer = CountVectorizer(min_df=1, stop_words='english')\n",
    "analyze = vectorizer.build_analyzer()\n",
    "\n",
    "def top_ngrams(communities,cluster, n=20):\n",
    "    \"\"\"Input:\n",
    "        communities: List of lists that contain indices corresponding to sentences in the original array\n",
    "        cluster: integer, the cluster to inspect\n",
    "        n: integer, number of most common \"\"\"\n",
    "    sentences = np.array(results)[communities[cluster]]\n",
    "    ngrams = []\n",
    "    for s in sentences:\n",
    "        ngrams.extend(analyze(s))\n",
    "\n",
    "    counts = Counter(ngrams)\n",
    "\n",
    "    return sorted(counts.items(), key=operator.itemgetter(1))[::-1][:n]\n",
    "\n",
    "def get_wordcloud_json(ngram):\n",
    "    wordcloud = []\n",
    "    for word, count in ngram:\n",
    "        wordcloud.append({\"text\":word, \"size\":count})\n",
    "    return wordcloud"
   ]
  },
  {
   "cell_type": "code",
   "execution_count": 33,
   "metadata": {
    "collapsed": false,
    "scrolled": true
   },
   "outputs": [],
   "source": [
    "wordcloud = get_wordcloud_json(top_ngrams(communities,8, n=50))\n",
    "f = open('wordcloud.json', 'w')\n",
    "f.write(json.dumps(wordcloud))\n",
    "f.close()"
   ]
  }
 ],
 "metadata": {
  "anaconda-cloud": {},
  "kernelspec": {
   "display_name": "Python [conda root]",
   "language": "python",
   "name": "conda-root-py"
  },
  "language_info": {
   "codemirror_mode": {
    "name": "ipython",
    "version": 3
   },
   "file_extension": ".py",
   "mimetype": "text/x-python",
   "name": "python",
   "nbconvert_exporter": "python",
   "pygments_lexer": "ipython3",
   "version": "3.5.2"
  }
 },
 "nbformat": 4,
 "nbformat_minor": 1
}
